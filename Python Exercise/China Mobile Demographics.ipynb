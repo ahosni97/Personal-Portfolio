{
 "cells": [
  {
   "cell_type": "code",
   "execution_count": 1,
   "id": "1ead2795",
   "metadata": {},
   "outputs": [],
   "source": [
    "import pandas as pd\n",
    "\n",
    "app_events = pd.read_csv(r\"C:\\Users\\Ahmed\\Desktop\\Learning\\Datasets\\China Mobile User Gemographics\\app_events.csv\")\n",
    "app_labels = pd.read_csv(r\"C:\\Users\\Ahmed\\Desktop\\Learning\\Datasets\\China Mobile User Gemographics\\app_labels.csv\")\n",
    "events = pd.read_csv(r\"C:\\Users\\Ahmed\\Desktop\\Learning\\Datasets\\China Mobile User Gemographics\\events.csv\")\n",
    "label_categories = pd.read_csv(r\"C:\\Users\\Ahmed\\Desktop\\Learning\\Datasets\\China Mobile User Gemographics\\label_categories.csv\")\n",
    "phone_brand_device_model_clean = pd.read_csv(r\"C:\\Users\\Ahmed\\Desktop\\Learning\\Datasets\\China Mobile User Gemographics\\phone_brand_device_model_clean.csv\")"
   ]
  },
  {
   "cell_type": "code",
   "execution_count": 17,
   "id": "954285d8",
   "metadata": {},
   "outputs": [],
   "source": [
    "def duplicates(df, column_name):\n",
    "    # Count the rows\n",
    "    row_count = len(df)\n",
    "\n",
    "    # Count the duplicates in the specified column\n",
    "    duplicates = df.duplicated(subset=[column_name], keep=False)\n",
    "    duplicate_count = sum(duplicates)\n",
    "\n",
    "    # Print the counts\n",
    "    print(f'Count of {column_name}: {row_count}')\n",
    "    print(f'Count of Duplicates: {duplicate_count}')\n",
    "\n",
    "    # Print the data of the duplicates, including the duplicated ones\n",
    "    if duplicate_count > 0:\n",
    "        duplicate_rows = df[duplicates].sort_values(by=[column_name])\n",
    "        print(duplicate_rows)"
   ]
  },
  {
   "cell_type": "code",
   "execution_count": 44,
   "id": "b97603ce",
   "metadata": {},
   "outputs": [
    {
     "name": "stdout",
     "output_type": "stream",
     "text": [
      "Count of app_id: 32473067\n",
      "Count of Duplicates: 32471849\n",
      "          event_id               app_id  is_installed  is_active\n",
      "17380730   1740289 -9221156934682287334             1          0\n",
      "28353038   2841258 -9221156934682287334             1          0\n",
      "137177       11542 -9221156934682287334             1          0\n",
      "5139060     512113 -9221156934682287334             1          0\n",
      "1699908     169760 -9221156934682287334             1          0\n",
      "...            ...                  ...           ...        ...\n",
      "11387012   1140182  9222488106573038706             1          0\n",
      "8475445     848271  9222488106573038706             1          0\n",
      "20972618   2099549  9222488106573038706             1          0\n",
      "4104156     410512  9222488106573038706             1          0\n",
      "16835891   1684744  9222488106573038706             1          0\n",
      "\n",
      "[32471849 rows x 4 columns]\n",
      "Count of app_id: 459943\n",
      "Count of Duplicates: 451518\n",
      "                     app_id  label_id\n",
      "383426 -9223281467940916832       405\n",
      "335711 -9223281467940916832       794\n",
      "240267 -9223281467940916832       796\n",
      "287989 -9223281467940916832       795\n",
      "335787 -9222785464897897681       794\n",
      "...                     ...       ...\n",
      "362003  9223317927457411432       405\n",
      "218773  9223317927457411432       813\n",
      "70065   9223317927457411432       704\n",
      "9367    9223317927457411432       714\n",
      "314288  9223317927457411432       794\n",
      "\n",
      "[451518 rows x 2 columns]\n",
      "Count of event_id: 3252950\n",
      "Count of Duplicates: 0\n",
      "Count of label_id: 930\n",
      "Count of Duplicates: 0\n",
      "Count of device_id: 186716\n",
      "Count of Duplicates: 0\n"
     ]
    }
   ],
   "source": [
    "duplicates(app_events, 'app_id')\n",
    "duplicates(app_labels, 'app_id')\n",
    "duplicates(events, 'event_id')\n",
    "duplicates(label_categories, 'label_id')\n",
    "duplicates(phone_brand_device_model_clean, 'device_id')"
   ]
  },
  {
   "cell_type": "code",
   "execution_count": 40,
   "id": "3ee508fa",
   "metadata": {},
   "outputs": [
    {
     "name": "stderr",
     "output_type": "stream",
     "text": [
      "C:\\Users\\Ahmed\\AppData\\Local\\Temp\\ipykernel_55620\\3925691553.py:4: SettingWithCopyWarning: \n",
      "A value is trying to be set on a copy of a slice from a DataFrame.\n",
      "Try using .loc[row_indexer,col_indexer] = value instead\n",
      "\n",
      "See the caveats in the documentation: https://pandas.pydata.org/pandas-docs/stable/user_guide/indexing.html#returning-a-view-versus-a-copy\n",
      "  phone_brand_device_model_clean['device_id'] = phone_brand_device_model_clean['device_id'].astype(str)\n"
     ]
    }
   ],
   "source": [
    "import csv\n",
    "\n",
    "# Remove Duplicates \n",
    "phone_brand_device_model_clean = phone_brand_device_model.drop_duplicates(subset=['device_id'], keep='first')\n",
    "\n",
    "# Convert 'device_id' column to string data type\n",
    "phone_brand_device_model_clean['device_id'] = phone_brand_device_model_clean['device_id'].astype(str)\n",
    "\n",
    "# Save dataframe to CSV file with 'device_id' column as string data type\n",
    "phone_brand_device_model_clean.to_csv('phone_brand_device_model_clean.csv', index=False, quoting=csv.QUOTE_NONNUMERIC, \n",
    "          float_format='%.0f')"
   ]
  }
 ],
 "metadata": {
  "kernelspec": {
   "display_name": "Python 3 (ipykernel)",
   "language": "python",
   "name": "python3"
  },
  "language_info": {
   "codemirror_mode": {
    "name": "ipython",
    "version": 3
   },
   "file_extension": ".py",
   "mimetype": "text/x-python",
   "name": "python",
   "nbconvert_exporter": "python",
   "pygments_lexer": "ipython3",
   "version": "3.9.13"
  }
 },
 "nbformat": 4,
 "nbformat_minor": 5
}

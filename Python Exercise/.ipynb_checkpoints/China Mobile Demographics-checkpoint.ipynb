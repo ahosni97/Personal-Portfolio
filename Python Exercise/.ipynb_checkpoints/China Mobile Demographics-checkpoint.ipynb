{
 "cells": [
  {
   "cell_type": "code",
   "execution_count": 1,
   "id": "1ead2795",
   "metadata": {},
   "outputs": [],
   "source": [
    "import pandas as pd\n",
    "\n",
    "app_events = pd.read_csv(r\"C:\\Users\\Ahmed\\Desktop\\Learning\\Datasets\\China Mobile User Gemographics\\app_events.csv\")\n",
    "app_labels = pd.read_csv(r\"C:\\Users\\Ahmed\\Desktop\\Learning\\Datasets\\China Mobile User Gemographics\\app_labels.csv\")\n",
    "events = pd.read_csv(r\"C:\\Users\\Ahmed\\Desktop\\Learning\\Datasets\\China Mobile User Gemographics\\events.csv\")\n",
    "label_categories = pd.read_csv(r\"C:\\Users\\Ahmed\\Desktop\\Learning\\Datasets\\China Mobile User Gemographics\\label_categories.csv\")\n",
    "phone_brand_device_model_clean = pd.read_csv(r\"C:\\Users\\Ahmed\\Desktop\\Learning\\Datasets\\China Mobile User Gemographics\\phone_brand_device_model_clean.csv\")"
   ]
  },
  {
   "cell_type": "code",
   "execution_count": 17,
   "id": "4ff79382",
   "metadata": {},
   "outputs": [],
   "source": [
    "def duplicates(df, column_name):\n",
    "    # Count the rows\n",
    "    row_count = len(df)\n",
    "\n",
    "    # Count the duplicates in the specified column\n",
    "    duplicates = df.duplicated(subset=[column_name], keep=False)\n",
    "    duplicate_count = sum(duplicates)\n",
    "\n",
    "    # Print the counts\n",
    "    print(f'Count of {column_name}: {row_count}')\n",
    "    print(f'Count of Duplicates: {duplicate_count}')\n",
    "\n",
    "    # Print the data of the duplicates, including the duplicated ones\n",
    "    if duplicate_count > 0:\n",
    "        duplicate_rows = df[duplicates].sort_values(by=[column_name])\n",
    "        print(duplicate_rows)"
   ]
  },
  {
   "cell_type": "code",
   "execution_count": 42,
   "id": "fc10cd50",
   "metadata": {},
   "outputs": [
    {
     "name": "stdout",
     "output_type": "stream",
     "text": [
      "Count of event_id: 32473067\n",
      "Count of Duplicates: 32387153\n",
      "          event_id               app_id  is_installed  is_active\n",
      "0                2  5927333115845830913             1          1\n",
      "17               2  5497109940653330488             1          1\n",
      "16               2 -8942695423876075857             1          0\n",
      "15               2  4348659952760821294             1          0\n",
      "14               2 -1758857579862594461             1          0\n",
      "...            ...                  ...           ...        ...\n",
      "32473038   3252948 -1066222546835696818             1          1\n",
      "32473037   3252948 -6793861127573349654             1          1\n",
      "32473065   3252948  -995726944612374565             1          1\n",
      "32473050   3252948 -7785899510745619351             1          1\n",
      "32473066   3252948  2306067392090419925             1          1\n",
      "\n",
      "[32387153 rows x 4 columns]\n",
      "Count of label_id: 459943\n",
      "Count of Duplicates: 459926\n",
      "                     app_id  label_id\n",
      "434885  5648896976552729928         5\n",
      "435168  -781493088327916750         5\n",
      "435221 -3009285907035616624         5\n",
      "435159 -8726376159123685147         5\n",
      "435078  3489720147367481003         5\n",
      "...                     ...       ...\n",
      "438022 -8408919090995710988      1021\n",
      "438509  -653184325024063651      1021\n",
      "438023  -468685430363333513      1021\n",
      "439112  7935999223086317721      1021\n",
      "439202 -6862341595149457063      1021\n",
      "\n",
      "[459926 rows x 2 columns]\n",
      "Count of event_id: 3252950\n",
      "Count of Duplicates: 0\n",
      "Count of label_id: 930\n",
      "Count of Duplicates: 0\n",
      "Count of device_id: 186716\n",
      "Count of Duplicates: 0\n"
     ]
    }
   ],
   "source": [
    "duplicates(app_events, 'event_id')\n",
    "duplicates(app_labels, 'label_id')\n",
    "duplicates(events, 'event_id')\n",
    "duplicates(label_categories, 'label_id')\n",
    "duplicates(phone_brand_device_model_clean, 'device_id')"
   ]
  },
  {
   "cell_type": "code",
   "execution_count": 40,
   "id": "e09d35a9",
   "metadata": {},
   "outputs": [
    {
     "name": "stderr",
     "output_type": "stream",
     "text": [
      "C:\\Users\\Ahmed\\AppData\\Local\\Temp\\ipykernel_55620\\3925691553.py:4: SettingWithCopyWarning: \n",
      "A value is trying to be set on a copy of a slice from a DataFrame.\n",
      "Try using .loc[row_indexer,col_indexer] = value instead\n",
      "\n",
      "See the caveats in the documentation: https://pandas.pydata.org/pandas-docs/stable/user_guide/indexing.html#returning-a-view-versus-a-copy\n",
      "  phone_brand_device_model_clean['device_id'] = phone_brand_device_model_clean['device_id'].astype(str)\n"
     ]
    }
   ],
   "source": [
    "import csv\n",
    "\n",
    "# Remove Duplicates \n",
    "phone_brand_device_model_clean = phone_brand_device_model.drop_duplicates(subset=['device_id'], keep='first')\n",
    "\n",
    "# Convert 'device_id' column to string data type\n",
    "phone_brand_device_model_clean['device_id'] = phone_brand_device_model_clean['device_id'].astype(str)\n",
    "\n",
    "# Save dataframe to CSV file with 'device_id' column as string data type\n",
    "phone_brand_device_model_clean.to_csv('phone_brand_device_model_clean.csv', index=False, quoting=csv.QUOTE_NONNUMERIC, \n",
    "          float_format='%.0f')"
   ]
  }
 ],
 "metadata": {
  "kernelspec": {
   "display_name": "Python 3 (ipykernel)",
   "language": "python",
   "name": "python3"
  },
  "language_info": {
   "codemirror_mode": {
    "name": "ipython",
    "version": 3
   },
   "file_extension": ".py",
   "mimetype": "text/x-python",
   "name": "python",
   "nbconvert_exporter": "python",
   "pygments_lexer": "ipython3",
   "version": "3.9.13"
  }
 },
 "nbformat": 4,
 "nbformat_minor": 5
}

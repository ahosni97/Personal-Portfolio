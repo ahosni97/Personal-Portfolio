{
 "cells": [
  {
   "cell_type": "code",
   "execution_count": 10,
   "id": "6c3d7d6f",
   "metadata": {},
   "outputs": [],
   "source": [
    "import pandas as pd"
   ]
  },
  {
   "cell_type": "code",
   "execution_count": 19,
   "id": "4de9257b",
   "metadata": {},
   "outputs": [],
   "source": [
    "events = pd.read_excel(r\"C:\\Users\\Ahmed\\Desktop\\Heights.xlsx\", index_col=0, header=0)"
   ]
  },
  {
   "cell_type": "code",
   "execution_count": 20,
   "id": "ac12d7e9",
   "metadata": {},
   "outputs": [
    {
     "data": {
      "text/html": [
       "<div>\n",
       "<style scoped>\n",
       "    .dataframe tbody tr th:only-of-type {\n",
       "        vertical-align: middle;\n",
       "    }\n",
       "\n",
       "    .dataframe tbody tr th {\n",
       "        vertical-align: top;\n",
       "    }\n",
       "\n",
       "    .dataframe thead th {\n",
       "        text-align: right;\n",
       "    }\n",
       "</style>\n",
       "<table border=\"1\" class=\"dataframe\">\n",
       "  <thead>\n",
       "    <tr style=\"text-align: right;\">\n",
       "      <th></th>\n",
       "      <th>Height</th>\n",
       "      <th>Age</th>\n",
       "      <th>Weight</th>\n",
       "    </tr>\n",
       "    <tr>\n",
       "      <th>Name</th>\n",
       "      <th></th>\n",
       "      <th></th>\n",
       "      <th></th>\n",
       "    </tr>\n",
       "  </thead>\n",
       "  <tbody>\n",
       "    <tr>\n",
       "      <th>3abdo</th>\n",
       "      <td>140</td>\n",
       "      <td>24</td>\n",
       "      <td>60.5</td>\n",
       "    </tr>\n",
       "    <tr>\n",
       "      <th>ibrahim</th>\n",
       "      <td>170</td>\n",
       "      <td>27</td>\n",
       "      <td>80.4</td>\n",
       "    </tr>\n",
       "    <tr>\n",
       "      <th>hossam</th>\n",
       "      <td>177</td>\n",
       "      <td>23</td>\n",
       "      <td>83.9</td>\n",
       "    </tr>\n",
       "    <tr>\n",
       "      <th>mexes</th>\n",
       "      <td>180</td>\n",
       "      <td>29</td>\n",
       "      <td>90.5</td>\n",
       "    </tr>\n",
       "    <tr>\n",
       "      <th>mo7sen</th>\n",
       "      <td>150</td>\n",
       "      <td>28</td>\n",
       "      <td>120.4</td>\n",
       "    </tr>\n",
       "  </tbody>\n",
       "</table>\n",
       "</div>"
      ],
      "text/plain": [
       "         Height  Age  Weight\n",
       "Name                        \n",
       "3abdo       140   24    60.5\n",
       "ibrahim     170   27    80.4\n",
       "hossam      177   23    83.9\n",
       "mexes       180   29    90.5\n",
       "mo7sen      150   28   120.4"
      ]
     },
     "execution_count": 20,
     "metadata": {},
     "output_type": "execute_result"
    }
   ],
   "source": [
    "events"
   ]
  },
  {
   "cell_type": "code",
   "execution_count": 21,
   "id": "3834f49a",
   "metadata": {},
   "outputs": [
    {
     "name": "stdout",
     "output_type": "stream",
     "text": [
      "<class 'pandas.core.frame.DataFrame'>\n",
      "Index: 5 entries, 3abdo to mo7sen\n",
      "Data columns (total 3 columns):\n",
      " #   Column  Non-Null Count  Dtype  \n",
      "---  ------  --------------  -----  \n",
      " 0   Height  5 non-null      int64  \n",
      " 1   Age     5 non-null      int64  \n",
      " 2   Weight  5 non-null      float64\n",
      "dtypes: float64(1), int64(2)\n",
      "memory usage: 160.0+ bytes\n"
     ]
    }
   ],
   "source": [
    "events.info()"
   ]
  },
  {
   "cell_type": "code",
   "execution_count": 22,
   "id": "629aeba7",
   "metadata": {},
   "outputs": [
    {
     "data": {
      "text/html": [
       "<div>\n",
       "<style scoped>\n",
       "    .dataframe tbody tr th:only-of-type {\n",
       "        vertical-align: middle;\n",
       "    }\n",
       "\n",
       "    .dataframe tbody tr th {\n",
       "        vertical-align: top;\n",
       "    }\n",
       "\n",
       "    .dataframe thead th {\n",
       "        text-align: right;\n",
       "    }\n",
       "</style>\n",
       "<table border=\"1\" class=\"dataframe\">\n",
       "  <thead>\n",
       "    <tr style=\"text-align: right;\">\n",
       "      <th></th>\n",
       "      <th>Height</th>\n",
       "      <th>Age</th>\n",
       "      <th>Weight</th>\n",
       "    </tr>\n",
       "  </thead>\n",
       "  <tbody>\n",
       "    <tr>\n",
       "      <th>count</th>\n",
       "      <td>5.00000</td>\n",
       "      <td>5.000000</td>\n",
       "      <td>5.000000</td>\n",
       "    </tr>\n",
       "    <tr>\n",
       "      <th>mean</th>\n",
       "      <td>163.40000</td>\n",
       "      <td>26.200000</td>\n",
       "      <td>87.140000</td>\n",
       "    </tr>\n",
       "    <tr>\n",
       "      <th>std</th>\n",
       "      <td>17.54423</td>\n",
       "      <td>2.588436</td>\n",
       "      <td>21.697534</td>\n",
       "    </tr>\n",
       "    <tr>\n",
       "      <th>min</th>\n",
       "      <td>140.00000</td>\n",
       "      <td>23.000000</td>\n",
       "      <td>60.500000</td>\n",
       "    </tr>\n",
       "    <tr>\n",
       "      <th>25%</th>\n",
       "      <td>150.00000</td>\n",
       "      <td>24.000000</td>\n",
       "      <td>80.400000</td>\n",
       "    </tr>\n",
       "    <tr>\n",
       "      <th>50%</th>\n",
       "      <td>170.00000</td>\n",
       "      <td>27.000000</td>\n",
       "      <td>83.900000</td>\n",
       "    </tr>\n",
       "    <tr>\n",
       "      <th>75%</th>\n",
       "      <td>177.00000</td>\n",
       "      <td>28.000000</td>\n",
       "      <td>90.500000</td>\n",
       "    </tr>\n",
       "    <tr>\n",
       "      <th>max</th>\n",
       "      <td>180.00000</td>\n",
       "      <td>29.000000</td>\n",
       "      <td>120.400000</td>\n",
       "    </tr>\n",
       "  </tbody>\n",
       "</table>\n",
       "</div>"
      ],
      "text/plain": [
       "          Height        Age      Weight\n",
       "count    5.00000   5.000000    5.000000\n",
       "mean   163.40000  26.200000   87.140000\n",
       "std     17.54423   2.588436   21.697534\n",
       "min    140.00000  23.000000   60.500000\n",
       "25%    150.00000  24.000000   80.400000\n",
       "50%    170.00000  27.000000   83.900000\n",
       "75%    177.00000  28.000000   90.500000\n",
       "max    180.00000  29.000000  120.400000"
      ]
     },
     "execution_count": 22,
     "metadata": {},
     "output_type": "execute_result"
    }
   ],
   "source": [
    "events.describe()"
   ]
  },
  {
   "cell_type": "code",
   "execution_count": 24,
   "id": "7339c948",
   "metadata": {},
   "outputs": [
    {
     "data": {
      "text/plain": [
       "(5, 3)"
      ]
     },
     "execution_count": 24,
     "metadata": {},
     "output_type": "execute_result"
    }
   ],
   "source": [
    "events.shape"
   ]
  },
  {
   "cell_type": "code",
   "execution_count": 33,
   "id": "5ee256e3",
   "metadata": {},
   "outputs": [],
   "source": [
    "events['bmi'] = events['Weight']/(events['Height']/100)**2"
   ]
  },
  {
   "cell_type": "code",
   "execution_count": 34,
   "id": "7f2cdbf1",
   "metadata": {},
   "outputs": [
    {
     "data": {
      "text/html": [
       "<div>\n",
       "<style scoped>\n",
       "    .dataframe tbody tr th:only-of-type {\n",
       "        vertical-align: middle;\n",
       "    }\n",
       "\n",
       "    .dataframe tbody tr th {\n",
       "        vertical-align: top;\n",
       "    }\n",
       "\n",
       "    .dataframe thead th {\n",
       "        text-align: right;\n",
       "    }\n",
       "</style>\n",
       "<table border=\"1\" class=\"dataframe\">\n",
       "  <thead>\n",
       "    <tr style=\"text-align: right;\">\n",
       "      <th></th>\n",
       "      <th>Height</th>\n",
       "      <th>Age</th>\n",
       "      <th>Weight</th>\n",
       "      <th>bmi</th>\n",
       "    </tr>\n",
       "    <tr>\n",
       "      <th>Name</th>\n",
       "      <th></th>\n",
       "      <th></th>\n",
       "      <th></th>\n",
       "      <th></th>\n",
       "    </tr>\n",
       "  </thead>\n",
       "  <tbody>\n",
       "    <tr>\n",
       "      <th>3abdo</th>\n",
       "      <td>140</td>\n",
       "      <td>24</td>\n",
       "      <td>60.5</td>\n",
       "      <td>30.867347</td>\n",
       "    </tr>\n",
       "    <tr>\n",
       "      <th>ibrahim</th>\n",
       "      <td>170</td>\n",
       "      <td>27</td>\n",
       "      <td>80.4</td>\n",
       "      <td>27.820069</td>\n",
       "    </tr>\n",
       "    <tr>\n",
       "      <th>hossam</th>\n",
       "      <td>177</td>\n",
       "      <td>23</td>\n",
       "      <td>83.9</td>\n",
       "      <td>26.780299</td>\n",
       "    </tr>\n",
       "    <tr>\n",
       "      <th>mexes</th>\n",
       "      <td>180</td>\n",
       "      <td>29</td>\n",
       "      <td>90.5</td>\n",
       "      <td>27.932099</td>\n",
       "    </tr>\n",
       "    <tr>\n",
       "      <th>mo7sen</th>\n",
       "      <td>150</td>\n",
       "      <td>28</td>\n",
       "      <td>120.4</td>\n",
       "      <td>53.511111</td>\n",
       "    </tr>\n",
       "  </tbody>\n",
       "</table>\n",
       "</div>"
      ],
      "text/plain": [
       "         Height  Age  Weight        bmi\n",
       "Name                                   \n",
       "3abdo       140   24    60.5  30.867347\n",
       "ibrahim     170   27    80.4  27.820069\n",
       "hossam      177   23    83.9  26.780299\n",
       "mexes       180   29    90.5  27.932099\n",
       "mo7sen      150   28   120.4  53.511111"
      ]
     },
     "execution_count": 34,
     "metadata": {},
     "output_type": "execute_result"
    }
   ],
   "source": [
    "events"
   ]
  },
  {
   "cell_type": "code",
   "execution_count": null,
   "id": "36b7247a",
   "metadata": {},
   "outputs": [],
   "source": []
  }
 ],
 "metadata": {
  "kernelspec": {
   "display_name": "Python 3 (ipykernel)",
   "language": "python",
   "name": "python3"
  },
  "language_info": {
   "codemirror_mode": {
    "name": "ipython",
    "version": 3
   },
   "file_extension": ".py",
   "mimetype": "text/x-python",
   "name": "python",
   "nbconvert_exporter": "python",
   "pygments_lexer": "ipython3",
   "version": "3.9.13"
  }
 },
 "nbformat": 4,
 "nbformat_minor": 5
}
